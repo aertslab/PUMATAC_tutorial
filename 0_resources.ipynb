{
 "cells": [
  {
   "cell_type": "markdown",
   "id": "3be4772b-d562-4550-95e4-f27769026b82",
   "metadata": {},
   "source": [
    "# 0. Resources\n",
    "Running ATACflow requires several files. In the tutorial notebooks, I place these files in a subdirectory of the current working directory called `resources/`."
   ]
  },
  {
   "cell_type": "code",
   "execution_count": 1,
   "id": "3728c67f-afa6-4373-8d6a-561da1e70b72",
   "metadata": {
    "execution": {
     "iopub.execute_input": "2023-04-20T14:08:46.130437Z",
     "iopub.status.busy": "2023-04-20T14:08:46.130176Z",
     "iopub.status.idle": "2023-04-20T14:08:46.386016Z",
     "shell.execute_reply": "2023-04-20T14:08:46.385462Z",
     "shell.execute_reply.started": "2023-04-20T14:08:46.130420Z"
    },
    "tags": []
   },
   "outputs": [],
   "source": [
    "if [ ! -d resources ]\n",
    "then\n",
    "    mkdir resources\n",
    "fi"
   ]
  },
  {
   "cell_type": "markdown",
   "id": "b0c8b758-a394-4430-b3c8-1d8e2b74d71f",
   "metadata": {
    "execution": {
     "iopub.execute_input": "2023-04-17T12:33:43.450197Z",
     "iopub.status.busy": "2023-04-17T12:33:43.449972Z",
     "iopub.status.idle": "2023-04-17T12:33:43.554422Z",
     "shell.execute_reply": "2023-04-17T12:33:43.553333Z",
     "shell.execute_reply.started": "2023-04-17T12:33:43.450181Z"
    }
   },
   "source": [
    "## 1. PUMATAC\n",
    "Clone the latest version of the pipeline from github"
   ]
  },
  {
   "cell_type": "code",
   "execution_count": 2,
   "id": "d11ba5ac-3a33-4880-9302-a5cc7d63bf86",
   "metadata": {
    "execution": {
     "iopub.execute_input": "2023-04-20T14:08:46.997992Z",
     "iopub.status.busy": "2023-04-20T14:08:46.997733Z",
     "iopub.status.idle": "2023-04-20T14:08:48.355849Z",
     "shell.execute_reply": "2023-04-20T14:08:48.355288Z",
     "shell.execute_reply.started": "2023-04-20T14:08:46.997976Z"
    },
    "tags": []
   },
   "outputs": [
    {
     "name": "stdout",
     "output_type": "stream",
     "text": [
      "pulling PUMATAC\n",
      "Already up to date.\n"
     ]
    }
   ],
   "source": [
    "if [ ! -d ATACflow ]; then\n",
    "    echo \"cloning PUMATAC\"\n",
    "    git clone https://github.com/aertslab/ATACflow\n",
    "else\n",
    "    echo \"pulling PUMATAC\"\n",
    "    cd ATACflow\n",
    "    git pull\n",
    "    cd ..\n",
    "fi"
   ]
  },
  {
   "cell_type": "markdown",
   "id": "0f7186ba-9ec9-4396-9ef3-71a6c139ad1f",
   "metadata": {},
   "source": [
    "## 2. Example FASTQ (optional)\n",
    "Example FASTQ used to test this pipeline can be found at https://resources.aertslab.org/papers/"
   ]
  },
  {
   "cell_type": "code",
   "execution_count": null,
   "id": "211b0a1a-0ff5-494e-8d1c-ad9640c130e3",
   "metadata": {
    "tags": []
   },
   "outputs": [],
   "source": [
    "wget -r -np -nH -R index.html https://resources.aertslab.org/papers/PUMATAC/PUMATAC_example_fastq/"
   ]
  },
  {
   "cell_type": "code",
   "execution_count": 3,
   "id": "5a77ebd9-b459-4b5b-b216-1b74bb42c712",
   "metadata": {
    "execution": {
     "iopub.execute_input": "2023-04-20T14:08:51.959861Z",
     "iopub.status.busy": "2023-04-20T14:08:51.959596Z",
     "iopub.status.idle": "2023-04-20T14:10:31.439572Z",
     "shell.execute_reply": "2023-04-20T14:10:31.438985Z",
     "shell.execute_reply.started": "2023-04-20T14:08:51.959844Z"
    },
    "tags": []
   },
   "outputs": [
    {
     "name": "stdout",
     "output_type": "stream",
     "text": [
      "0c8b78a5687d117f71d04a090eeffa80  PUMATAC_example_fastq/BIO_ddseq_4__R1.LIBDS.fastq.gz\n",
      "6a5319b566331e1c2cb92e0950863075  PUMATAC_example_fastq/BIO_ddseq_4__R2.LIBDS.fastq.gz\n",
      "0a9f8d48581694a85dc5b12a54fe7e59  PUMATAC_example_fastq/EPF_hydrop_1__R1.LIBDS.fastq.gz\n",
      "9001b4deff9eef9d6c605eadae7dff92  PUMATAC_example_fastq/EPF_hydrop_1__R2.LIBDS.fastq.gz\n",
      "b3300d28ed425417dc21d796d7a8e623  PUMATAC_example_fastq/EPF_hydrop_1__R3.LIBDS.fastq.gz\n",
      "9fa3339b8aea6b7b2f9ef4d4bf73a086  PUMATAC_example_fastq/OHS_s3atac_1__R1.LIBDS.fastq.gz\n",
      "f08b6c814abb4d3c25329dbc2f6a67ab  PUMATAC_example_fastq/OHS_s3atac_1__R2.LIBDS.fastq.gz\n",
      "448652e81c27d2000fca275bc7f94990  PUMATAC_example_fastq/OHS_s3atac_1__R3.LIBDS.fastq.gz\n",
      "dbc5f0fd828f9f81a9f2b77642395c0b  PUMATAC_example_fastq/VIB_10xv2_1__R1.LIBDS.fastq.gz\n",
      "2e00f84113992335632517f67703adf9  PUMATAC_example_fastq/VIB_10xv2_1__R2.LIBDS.fastq.gz\n",
      "9d39e83afc86000c8fda42da4e69e4db  PUMATAC_example_fastq/VIB_10xv2_1__R3.LIBDS.fastq.gz\n"
     ]
    }
   ],
   "source": [
    "md5sum PUMATAC_example_fastq/*"
   ]
  },
  {
   "cell_type": "markdown",
   "id": "47530163-91f5-40e9-a37c-6c630dce90cb",
   "metadata": {},
   "source": [
    "## 3. PUMATAC dependencies\n",
    "All other files can all be downloaded from https://resources.aertslab.org/papers/PUMATAC_dependencies/, the rest of this notebook only documents how they were generated."
   ]
  },
  {
   "cell_type": "code",
   "execution_count": null,
   "id": "340dc96a-61ff-44e3-9d5b-5cb1dc0bf57c",
   "metadata": {
    "tags": []
   },
   "outputs": [],
   "source": [
    "wget -r -np -nH -R index.html https://resources.aertslab.org/papers/PUMATAC/PUMATAC_dependencies/"
   ]
  },
  {
   "cell_type": "code",
   "execution_count": 4,
   "id": "fc35961b-f205-4e13-85d0-544780ff86b9",
   "metadata": {
    "execution": {
     "iopub.execute_input": "2023-04-20T14:10:31.440643Z",
     "iopub.status.busy": "2023-04-20T14:10:31.440434Z",
     "iopub.status.idle": "2023-04-20T14:10:31.714376Z",
     "shell.execute_reply": "2023-04-20T14:10:31.713837Z",
     "shell.execute_reply.started": "2023-04-20T14:10:31.440628Z"
    },
    "tags": []
   },
   "outputs": [
    {
     "name": "stdout",
     "output_type": "stream",
     "text": [
      "PUMATAC_dependencies/\n",
      "├── cache\n",
      "│   ├── broadinstitute-gatk-4.2.0.0.img\n",
      "│   ├── cache\n",
      "│   ├── cflerin-seurat-4.0.3-plus.copy.sif\n",
      "│   ├── cflerin-seurat-4.0.3-plus.sif\n",
      "│   ├── seurat.sh\n",
      "│   ├── vibsinglecellnf-bap-2021-04-27-3b48f4b.img\n",
      "│   ├── vibsinglecellnf-bwamaptools-bwa-mem2-2.2.1-zlibng-2.0.6.img\n",
      "│   ├── vibsinglecellnf-popscle-2021-05-05-da70fc7.img\n",
      "│   ├── vibsinglecellnf-singlecelltoolkit-2022-04-15-16314db.img\n",
      "│   ├── vibsinglecellnf-singlecelltoolkit-2022-07-07-0638c1d.img\n",
      "│   ├── vibsinglecellnf-sinto-0.7.3.1.img\n",
      "│   └── vibsinglecellnf-trimgalore-0.6.6.img\n",
      "├── genomes\n",
      "│   ├── hg38_bwamem2\n",
      "│   └── mm10_bwamem2\n",
      "├── jupyter_kernels\n",
      "│   └── 20230419_pycistopic.sif\n",
      "├── nextflow\n",
      "│   ├── nextflow-21.04.3-all\n",
      "│   ├── nextflow-21.10.4-all\n",
      "│   └── nextflow-22.10.7-all\n",
      "├── regions\n",
      "│   ├── 1000Genomes.wgs.GRCH38.sites.minAF-0.1.freemuxlet-scATAC.vcf.gz\n",
      "│   ├── V2.hg38-rDHS-Unfiltered.blacklisted.bed\n",
      "│   ├── V2.mm10-rDHS-Unfiltered.blacklisted.bed\n",
      "│   ├── hg38-blacklist.v2.bed\n",
      "│   └── mm10-blacklist.v2.bed\n",
      "└── whitelists\n",
      "    ├── 20200227_HyDrop-ATAC_96x96x96_full_barcodes_no_underscore.txt.gz\n",
      "    ├── 20200227_HyDrop-ATAC_96x96x96_full_barcodes_no_underscore_REVCOMP.txt.gz\n",
      "    ├── 737K-arc-v1.REVCOMP.txt.gz\n",
      "    ├── 737K-arc-v1.txt.gz\n",
      "    ├── 737K-cratac-v1.REVCOMP.txt.gz\n",
      "    ├── 737K-cratac-v1.txt.gz\n",
      "    ├── hydrop_384x384.REVCOMP.txt.gz\n",
      "    ├── hydrop_384x384.txt.gz\n",
      "    └── s3atac_1.whitelist.txt.gz\n",
      "\n",
      "9 directories, 29 files\n"
     ]
    }
   ],
   "source": [
    "tree -L 2 PUMATAC_dependencies/"
   ]
  },
  {
   "cell_type": "markdown",
   "id": "fa12007c-23e9-4675-b4c3-f1c3852f99ff",
   "metadata": {
    "execution": {
     "iopub.execute_input": "2023-04-20T09:17:38.037034Z",
     "iopub.status.busy": "2023-04-20T09:17:38.036752Z",
     "iopub.status.idle": "2023-04-20T09:17:38.141173Z",
     "shell.execute_reply": "2023-04-20T09:17:38.140550Z",
     "shell.execute_reply.started": "2023-04-20T09:17:38.037016Z"
    }
   },
   "source": [
    "## 4. Jupyter kernels\n",
    "For the jupyter notebooks, we need specific versions for some python packages. I have included a singularity image that contains the right versions:"
   ]
  },
  {
   "cell_type": "code",
   "execution_count": 43,
   "id": "d5db5cb0-a66c-4d0f-8dea-5c4ab4cdb5ed",
   "metadata": {
    "execution": {
     "iopub.execute_input": "2023-04-24T13:08:27.146566Z",
     "iopub.status.busy": "2023-04-24T13:08:27.146355Z",
     "iopub.status.idle": "2023-04-24T13:08:27.304483Z",
     "shell.execute_reply": "2023-04-24T13:08:27.303631Z",
     "shell.execute_reply.started": "2023-04-24T13:08:27.146550Z"
    },
    "tags": []
   },
   "outputs": [
    {
     "name": "stdout",
     "output_type": "stream",
     "text": [
      "/lustre1/project/stg_00002/lcb/fderop/data/20230411_ATACflow_tutorial/PUMATAC_dependencies/jupyter_kernels/20230419_pycistopic.sif\n"
     ]
    }
   ],
   "source": [
    "KERNEL_PATH=(`realpath PUMATAC_dependencies/jupyter_kernels/20230419_pycistopic.sif`)\n",
    "echo $KERNEL_PATH"
   ]
  },
  {
   "cell_type": "markdown",
   "id": "d5aecef8-ae22-4c72-a739-e9bcecd5dac6",
   "metadata": {},
   "source": [
    "We now need to redirect Jupyter to this singularity image. Kernels are usually located in `~/.local/share/jupyter/kernels/`:"
   ]
  },
  {
   "cell_type": "code",
   "execution_count": 54,
   "id": "9df63474-c434-4c8f-8c06-64df683beea6",
   "metadata": {
    "execution": {
     "iopub.execute_input": "2023-04-24T13:10:34.930122Z",
     "iopub.status.busy": "2023-04-24T13:10:34.929892Z",
     "iopub.status.idle": "2023-04-24T13:10:35.087771Z",
     "shell.execute_reply": "2023-04-24T13:10:35.087289Z",
     "shell.execute_reply.started": "2023-04-24T13:10:34.930106Z"
    },
    "tags": []
   },
   "outputs": [
    {
     "name": "stdout",
     "output_type": "stream",
     "text": [
      "bash\n",
      "cistopic_20220628\n",
      "cistopic_20220714\n",
      "cistopic_20220722\n",
      "cistopic_20220815\n",
      "cistopic_20221014\n",
      "cistopic_20230419\n",
      "cistopic_cbravo\n",
      "pycistopic_singularity\n"
     ]
    }
   ],
   "source": [
    "KERNELS_DIR=~/.local/share/jupyter/kernels/\n",
    "ls -1 $KERNELS_DIR"
   ]
  },
  {
   "cell_type": "markdown",
   "id": "f22b79f0-8fa0-4e6b-a243-c45e025d1ba8",
   "metadata": {},
   "source": [
    "Create a new directory (`cistopic_20230419`) and add the `kernel.json` file. Make sure that the path to the singularity iamge is updated.:"
   ]
  },
  {
   "cell_type": "code",
   "execution_count": 55,
   "id": "17e9121d-bf81-419b-99ea-c9b8783a26e9",
   "metadata": {
    "execution": {
     "iopub.execute_input": "2023-04-24T13:11:02.212575Z",
     "iopub.status.busy": "2023-04-24T13:11:02.212326Z",
     "iopub.status.idle": "2023-04-24T13:11:02.468205Z",
     "shell.execute_reply": "2023-04-24T13:11:02.467355Z",
     "shell.execute_reply.started": "2023-04-24T13:11:02.212558Z"
    },
    "tags": []
   },
   "outputs": [],
   "source": [
    "if [ ! -d $KERNELS_DIR/cistopic_20230419/ ]\n",
    "then\n",
    "    mkdir $KERNELS_DIR/cistopic_20230419/\n",
    "fi"
   ]
  },
  {
   "cell_type": "markdown",
   "id": "8efb8488-da5e-46e2-a54e-7ea33dbe6dd8",
   "metadata": {
    "execution": {
     "iopub.execute_input": "2023-04-20T14:10:32.187148Z",
     "iopub.status.busy": "2023-04-20T14:10:32.186952Z",
     "iopub.status.idle": "2023-04-20T14:10:32.294153Z",
     "shell.execute_reply": "2023-04-20T14:10:32.293315Z",
     "shell.execute_reply.started": "2023-04-20T14:10:32.187133Z"
    }
   },
   "source": [
    "Then, we will write a new `kernel.json` file there that redirects jupyter to our `KERNEL_PATH`. The `kernel.json` file also requires you to define which mounts it should access (since it executes a `singularity exec` command)."
   ]
  },
  {
   "cell_type": "code",
   "execution_count": 52,
   "id": "bee69141-9624-4563-a8dd-c9fd916ca7c3",
   "metadata": {
    "execution": {
     "iopub.execute_input": "2023-04-24T13:10:08.271324Z",
     "iopub.status.busy": "2023-04-24T13:10:08.271103Z",
     "iopub.status.idle": "2023-04-24T13:10:08.374690Z",
     "shell.execute_reply": "2023-04-24T13:10:08.373901Z",
     "shell.execute_reply.started": "2023-04-24T13:10:08.271307Z"
    },
    "tags": []
   },
   "outputs": [],
   "source": [
    "MOUNTS=/staging,/lustre1,/data,/vsc-hard-mounts,/scratch,/scratch/leuven/330/vsc33042/tmp/:/tmp,/local_scratch"
   ]
  },
  {
   "cell_type": "code",
   "execution_count": 53,
   "id": "f1f6fc4f-1471-4a79-96d8-cc15631f26d8",
   "metadata": {
    "execution": {
     "iopub.execute_input": "2023-04-24T13:10:08.575490Z",
     "iopub.status.busy": "2023-04-24T13:10:08.575287Z",
     "iopub.status.idle": "2023-04-24T13:10:08.739063Z",
     "shell.execute_reply": "2023-04-24T13:10:08.738590Z",
     "shell.execute_reply.started": "2023-04-24T13:10:08.575475Z"
    },
    "tags": []
   },
   "outputs": [
    {
     "name": "stdout",
     "output_type": "stream",
     "text": [
      "{\n",
      "    \"argv\": [\n",
      "     \"singularity\",\n",
      "     \"exec\",\n",
      "     \"-B\",\n",
      "     \"/staging,/lustre1,/data,/vsc-hard-mounts,/scratch,/scratch/leuven/330/vsc33042/tmp/:/tmp,/local_scratch\",\n",
      "     \"/lustre1/project/stg_00002/lcb/fderop/data/20230411_ATACflow_tutorial/PUMATAC_dependencies/jupyter_kernels/20230419_pycistopic.sif\",\n",
      "     \"ipython\",\n",
      "     \"kernel\",\n",
      "     \"-f\",\n",
      "     \"{connection_file}\"\n",
      "    ],\n",
      "    \"display_name\": \"20230419_pycistopic.sif\",\n",
      "    \"language\": \"python\"\n",
      "}\n"
     ]
    }
   ],
   "source": [
    "sed \"s+/lustre1/project/stg_00090/scatac_benchmark/0_resources/cistopic_image/20230419_pycistopic.sif+$KERNEL_PATH+g\" \"kernel_template.json\" > \"kernel.json\"\n",
    "sed \"s+/staging,/lustre1,/data,/vsc-hard-mounts,/scratch,/scratch/leuven/330/vsc33042/tmp/:/tmp,/local_scratch+$MOUNTS+g\" \"kernel.json\""
   ]
  },
  {
   "cell_type": "markdown",
   "id": "7b347a72-32b9-4c25-939a-d3549589e04d",
   "metadata": {},
   "source": [
    "If all is well, the following should return our jupyter `kernel.json`:"
   ]
  },
  {
   "cell_type": "code",
   "execution_count": 56,
   "id": "17353bf2-de26-4469-8222-e53b41e5a2d9",
   "metadata": {
    "execution": {
     "iopub.execute_input": "2023-04-24T13:13:08.104978Z",
     "iopub.status.busy": "2023-04-24T13:13:08.104765Z",
     "iopub.status.idle": "2023-04-24T13:13:08.212735Z",
     "shell.execute_reply": "2023-04-24T13:13:08.212255Z",
     "shell.execute_reply.started": "2023-04-24T13:13:08.104962Z"
    }
   },
   "outputs": [
    {
     "name": "stdout",
     "output_type": "stream",
     "text": [
      "{\n",
      "    \"argv\": [\n",
      "     \"singularity\",\n",
      "     \"exec\",\n",
      "     \"-B\",\n",
      "     \"/staging,/lustre1,/data,/vsc-hard-mounts,/scratch,/scratch/leuven/330/vsc33042/tmp/:/tmp,/local_scratch\",\n",
      "     \"/lustre1/project/stg_00090/scatac_benchmark/0_resources/cistopic_image/20230419_pycistopic.sif\",\n",
      "     \"ipython\",\n",
      "     \"kernel\",\n",
      "     \"-f\",\n",
      "     \"{connection_file}\"\n",
      "    ],\n",
      "    \"display_name\": \"20230419_pycistopic.sif\",\n",
      "    \"language\": \"python\"\n",
      "}\n"
     ]
    }
   ],
   "source": [
    "cat $KERNELS_DIR/cistopic_20230419/kernel.json"
   ]
  },
  {
   "cell_type": "markdown",
   "id": "977bad50-f498-4fb2-b2b6-338d21bd97cf",
   "metadata": {},
   "source": [
    "# 5. ghuls single_cell_toolkit"
   ]
  },
  {
   "cell_type": "code",
   "execution_count": 9,
   "id": "44a87848-6929-4ba0-9a8f-5facf3ec7a17",
   "metadata": {
    "execution": {
     "iopub.execute_input": "2023-04-20T14:40:48.049134Z",
     "iopub.status.busy": "2023-04-20T14:40:48.048870Z",
     "iopub.status.idle": "2023-04-20T14:40:51.643050Z",
     "shell.execute_reply": "2023-04-20T14:40:51.642511Z",
     "shell.execute_reply.started": "2023-04-20T14:40:48.049117Z"
    },
    "tags": []
   },
   "outputs": [
    {
     "name": "stdout",
     "output_type": "stream",
     "text": [
      "cloning single_cell_toolkit\n",
      "Cloning into 'single_cell_toolkit'...\n",
      "remote: Enumerating objects: 464, done.\u001b[K\n",
      "remote: Counting objects: 100% (220/220), done.\u001b[K\n",
      "remote: Compressing objects: 100% (143/143), done.\u001b[K\n",
      "remote: Total 464 (delta 123), reused 160 (delta 74), pack-reused 244\u001b[K\n",
      "Receiving objects: 100% (464/464), 148.31 KiB | 111.00 KiB/s, done.\n",
      "Resolving deltas: 100% (266/266), done.\n"
     ]
    }
   ],
   "source": [
    "if [ ! -d PUMATAC_dependencies/single_cell_toolkit ]; then\n",
    "    echo \"cloning single_cell_toolkit\"\n",
    "    cd PUMATAC_dependencies\n",
    "    git clone https://github.com/aertslab/single_cell_toolkit\n",
    "    cd ..\n",
    "else\n",
    "    cd PUMATAC_dependencies\n",
    "    echo \"pulling single_cell_toolkit\"\n",
    "    cd single_cell_toolkit\n",
    "    git pull\n",
    "    cd ..\n",
    "fi"
   ]
  },
  {
   "cell_type": "markdown",
   "id": "2af0aeb8-d4f0-4b1b-89f5-b6e11850b538",
   "metadata": {},
   "source": [
    "# Documentation\n",
    "How the dependencies were generated or downloaded\n",
    "### a. NextFlow\n",
    "Download NextFlow version 21.04.03: https://github.com/nextflow-io/nextflow/releases/tag/v21.04.3"
   ]
  },
  {
   "cell_type": "code",
   "execution_count": 33,
   "id": "d9e7ee6b-f38b-4c78-a1be-f820f705daa1",
   "metadata": {
    "execution": {
     "iopub.execute_input": "2023-04-18T09:27:05.389847Z",
     "iopub.status.busy": "2023-04-18T09:27:05.389642Z",
     "iopub.status.idle": "2023-04-18T09:27:05.596025Z",
     "shell.execute_reply": "2023-04-18T09:27:05.595105Z",
     "shell.execute_reply.started": "2023-04-18T09:27:05.389832Z"
    },
    "tags": []
   },
   "outputs": [],
   "source": [
    "if [ ! -f resources/nextflow/nextflow-21.04.3-all ]; then\n",
    "    wget -P resources/nextflow/ https://github.com/nextflow-io/nextflow/releases/download/v21.04.3/nextflow-21.04.3-all\n",
    "fi"
   ]
  },
  {
   "cell_type": "markdown",
   "id": "3a6e3788-192a-497e-8fcb-7d1a5d2bd5b8",
   "metadata": {},
   "source": [
    "### b. A bwa-mem2 genome index for your species\n",
    "This genome index can be generated from a `.fasta` file using `bwa-mem2`. First, follow the github tutorial to install `bwa-mem2`: https://github.com/bwa-mem2/bwa-mem2  \n",
    "Then, generate a genome index as follows:"
   ]
  },
  {
   "cell_type": "markdown",
   "id": "ce3b3b3c-ec30-4e5e-b8f6-dec154d64bd1",
   "metadata": {
    "execution": {
     "iopub.execute_input": "2023-04-17T12:40:23.750627Z",
     "iopub.status.busy": "2023-04-17T12:40:23.750382Z",
     "iopub.status.idle": "2023-04-17T12:40:23.855332Z",
     "shell.execute_reply": "2023-04-17T12:40:23.854114Z",
     "shell.execute_reply.started": "2023-04-17T12:40:23.750611Z"
    }
   },
   "source": [
    "### c. Barcode whitelists for 10x Genomics and HyDrop\n",
    "For 10x Genomics, you can get the whitelist for multiome and ATAC from here:  \n",
    "https://kb.10xgenomics.com/hc/en-us/articles/115004506263-What-is-a-barcode-whitelist-  \n",
    "https://kb.10xgenomics.com/hc/en-us/articles/4412343032205-Where-can-I-find-the-barcode-whitelist-s-for-Single-Cell-Multiome-ATAC-GEX-product-  \n",
    "  \n",
    "For HyDrop, the whitelist can be sourced from https://github.com/aertslab/hydrop_data_analysis.\n",
    "For ddSEQ, a whitelist-agnostic strategy is employed.  \n",
    "For s3-ATAC, a custom whitelist should be compiled based on the indices you used.  \n",
    "If you wish to implement your own technique, a tutorial will be added."
   ]
  },
  {
   "cell_type": "markdown",
   "id": "d7cf2d65-3cf3-4ffe-8ca2-fd6a8466b93a",
   "metadata": {
    "jp-MarkdownHeadingCollapsed": true,
    "tags": []
   },
   "source": [
    "### d. Regions for fragment counting\n",
    "If you also want to employ our QC diagnostics tool, you will require regions to count `.fragments.tsv.gz` files in. There are three possible strategies:\n",
    "1. Align your data in a bulk ATAC-seq fashion, perform de-novo peak calling on the aggregate alignment, and use these peak regions to generate your count matrix. This strategy can miss regions that are only accessible in rare cell types.\n",
    "2. Use a region set from a previous experiment on your sample.\n",
    "3. Use the ENCODE SCREEN regions: https://screen.encodeproject.org/. We subtract the ENCODE blacklist () from the ENCODE SCREEN regions."
   ]
  },
  {
   "cell_type": "markdown",
   "id": "2e5f7d78-43db-41cf-9b48-a7ede72021bf",
   "metadata": {},
   "source": [
    "### The `PUMATAC_dependencies` directory should look like so:"
   ]
  },
  {
   "cell_type": "code",
   "execution_count": 48,
   "id": "6ee581e8-0319-441e-ab62-269f621fecde",
   "metadata": {
    "execution": {
     "iopub.execute_input": "2023-04-18T12:23:17.700963Z",
     "iopub.status.busy": "2023-04-18T12:23:17.700634Z",
     "iopub.status.idle": "2023-04-18T12:23:17.815170Z",
     "shell.execute_reply": "2023-04-18T12:23:17.814288Z",
     "shell.execute_reply.started": "2023-04-18T12:23:17.700946Z"
    },
    "tags": []
   },
   "outputs": [
    {
     "name": "stdout",
     "output_type": "stream",
     "text": [
      "PUMATAC_dependencies\n",
      "├── cache\n",
      "│   ├── broadinstitute-gatk-4.2.0.0.img\n",
      "│   ├── cache\n",
      "│   ├── cflerin-seurat-4.0.3-plus.copy.sif\n",
      "│   ├── cflerin-seurat-4.0.3-plus.sif\n",
      "│   ├── seurat.sh\n",
      "│   ├── vibsinglecellnf-bap-2021-04-27-3b48f4b.img\n",
      "│   ├── vibsinglecellnf-bwamaptools-bwa-mem2-2.2.1-zlibng-2.0.6.img\n",
      "│   ├── vibsinglecellnf-popscle-2021-05-05-da70fc7.img\n",
      "│   ├── vibsinglecellnf-singlecelltoolkit-2022-04-15-16314db.img\n",
      "│   ├── vibsinglecellnf-singlecelltoolkit-2022-07-07-0638c1d.img\n",
      "│   ├── vibsinglecellnf-sinto-0.7.3.1.img\n",
      "│   └── vibsinglecellnf-trimgalore-0.6.6.img\n",
      "├── genomes\n",
      "│   ├── hg38_bwamem2\n",
      "│   └── mm10_bwamem2\n",
      "├── nextflow\n",
      "│   ├── nextflow-21.04.3-all\n",
      "│   ├── nextflow-21.10.4-all\n",
      "│   └── nextflow-22.10.7-all\n",
      "├── regions\n",
      "│   ├── 1000Genomes.wgs.GRCH38.sites.minAF-0.1.freemuxlet-scATAC.vcf.gz\n",
      "│   ├── V2.hg38-rDHS-Unfiltered.blacklisted.bed\n",
      "│   ├── V2.mm10-rDHS-Unfiltered.blacklisted.bed\n",
      "│   ├── hg38-blacklist.v2.bed\n",
      "│   └── mm10-blacklist.v2.bed\n",
      "└── whitelists\n",
      "    ├── 20200227_HyDrop-ATAC_96x96x96_full_barcodes_no_underscore.txt.gz\n",
      "    ├── 20200227_HyDrop-ATAC_96x96x96_full_barcodes_no_underscore_REVCOMP.txt.gz\n",
      "    ├── 737K-arc-v1.REVCOMP.txt.gz\n",
      "    ├── 737K-arc-v1.txt.gz\n",
      "    ├── 737K-cratac-v1.REVCOMP.txt.gz\n",
      "    ├── 737K-cratac-v1.txt.gz\n",
      "    ├── hydrop_384x384.REVCOMP.txt.gz\n",
      "    └── hydrop_384x384.txt.gz\n",
      "\n",
      "8 directories, 27 files\n"
     ]
    }
   ],
   "source": [
    "tree -L 2 PUMATAC_dependencies"
   ]
  }
 ],
 "metadata": {
  "kernelspec": {
   "display_name": "Bash",
   "language": "bash",
   "name": "bash"
  },
  "language_info": {
   "codemirror_mode": "shell",
   "file_extension": ".sh",
   "mimetype": "text/x-sh",
   "name": "bash"
  }
 },
 "nbformat": 4,
 "nbformat_minor": 5
}
